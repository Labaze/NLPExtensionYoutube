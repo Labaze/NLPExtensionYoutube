{
 "cells": [
  {
   "cell_type": "markdown",
   "metadata": {},
   "source": [
    "Part I: How to get the caption of most youtube video"
   ]
  },
  {
   "cell_type": "code",
   "execution_count": 1,
   "metadata": {},
   "outputs": [
    {
     "name": "stdout",
     "output_type": "stream",
     "text": [
      "Requirement already satisfied: beautifulsoup4 in /Users/basile/anaconda3/envs/NLP/lib/python3.7/site-packages (4.9.1)\r\n",
      "Requirement already satisfied: soupsieve>1.2 in /Users/basile/anaconda3/envs/NLP/lib/python3.7/site-packages (from beautifulsoup4) (2.0.1)\r\n"
     ]
    }
   ],
   "source": [
    "!pip install beautifulsoup4"
   ]
  },
  {
   "cell_type": "code",
   "execution_count": 2,
   "metadata": {},
   "outputs": [],
   "source": [
    "from bs4 import BeautifulSoup\n",
    "import requests as req\n",
    "import re"
   ]
  },
  {
   "cell_type": "code",
   "execution_count": 34,
   "metadata": {},
   "outputs": [],
   "source": [
    "youtube_url = \"https://www.youtube.com/watch?v=moLzH50AVMk\""
   ]
  },
  {
   "cell_type": "code",
   "execution_count": 35,
   "metadata": {},
   "outputs": [],
   "source": [
    "end_url = re.findall('v=.*', youtube_url)"
   ]
  },
  {
   "cell_type": "code",
   "execution_count": 36,
   "metadata": {},
   "outputs": [],
   "source": [
    "youtube_caption_url= f'http://video.google.com/timedtext?lang=en&{end_url[0]}'"
   ]
  },
  {
   "cell_type": "code",
   "execution_count": 37,
   "metadata": {},
   "outputs": [
    {
     "name": "stdout",
     "output_type": "stream",
     "text": [
      "http://video.google.com/timedtext?lang=en&v=moLzH50AVMk\n"
     ]
    }
   ],
   "source": [
    "print(youtube_caption_url)"
   ]
  },
  {
   "cell_type": "code",
   "execution_count": 38,
   "metadata": {},
   "outputs": [],
   "source": [
    "reponse = req.get(youtube_caption_url)"
   ]
  },
  {
   "cell_type": "code",
   "execution_count": 39,
   "metadata": {},
   "outputs": [],
   "source": [
    "soup = BeautifulSoup(reponse.content, 'html.parser') # the parser that suits to the html"
   ]
  },
  {
   "cell_type": "code",
   "execution_count": 40,
   "metadata": {},
   "outputs": [],
   "source": [
    "text = soup.text.replace(\"\\n\", \" \").replace(\"&quot\",\"\").replace(\".\",\". \").replace(\"&#39;\",\"\\'\")"
   ]
  },
  {
   "cell_type": "code",
   "execution_count": 41,
   "metadata": {},
   "outputs": [
    {
     "data": {
      "text/plain": [
       "\"[In January 2020,Christian Happi and Pardis Sabeti presented an Audacious idea][Sentinel: An early warning system to detect and track the next pandemic][Here's how it would work . . . ]Christian Happi: Sentinel is a proactive early warning system to preempt pandemics. It is built on three major pillars. Pardis Sabeti: The first pillar is Detect. Christian and I have been studying infectious diseases togetheraround the world for two decades. We have been using genome sequencing. Reading out the complete genetic information of a microbe,it allows us to identify viruses, even those we've never seen before,track them as they spreadand watch for new mutations. And now with the powerful gene-editing technology CRISPR,we can use this genetic informationto rapidly design exquisitely sensitive diagnostic tests for any microbe. CH: One of these tools is called SHERLOCK. It can be used to test known viruses on simple paper strips. It is very inexpensive,and frontline health workers can use SHERLOCKto detect the most common or the most threatening viruseswithin an hour. PS: The other tool is CARMEN. It requires a lab, but it can test for hundreds of viruses simultaneously. So hospital lab staff can test patient samplesfor a broad range of viruseswithin a day. Our second pillar is Connect. Connect everyone and share this informationacross the public health community. In most outbreaks,hospital staff share case information through paper, Excel -- if at all. This makes tracking an outbreak through space and timeand coordinating a responseextremely difficult. So we're developing a cloud-based system and mobile applicationsthat connect community health workers,clinicians, public health teams -- everyone --and allows them to upload data,perform analysis, share insightsand coordinate a response and action planin real time. CH: Our third pillar is Empower. An outbreak surveillance system can only succeedif we empower frontline health workers that are already out theretaking care of communities. It requires a lot of training. Pardis and I are very much aware of that. We've spent the past 10 yearstraining hundreds of young African scientists and clinicians. Over the next five years, we will train an additional 1,000 health workersto use Sentinel detection toolsand empower them to train their colleagues. This way, we will improve the original health care systemand integrate surveillance into medical practice. [Since presenting their Audacious plan at TED, the world has changed . . . ]Briar Goldberg: So here we are.  We're recording this. It's April 7th, 2020,and obviously, we are in the throes of this crazy global pandemiccaused by this new coronavirus. So you two have been working together forever,and you really came together pretty aggressivelywith the Ebola crisis back in 2014. What does it feel like from your perspective?CH: Pretty much six years after the Ebola outbreak,we're really facing another crisis,and we still pretty much, like, we never learned from the previous crisis. And that, really, for me, is heartbreaking. PS: I think that this pandemic has shown us how unprepared we areeverywhere in the world. Christian and our partners together had diagnostics at our hospital sitesin Nigeria, Sierra Leone and Senegal in early February. Most states in the United States didn't have it until far later. It tells us that we are all in this together,and we are all very much behind the curve. BG: So, this Sentinel system is amazing,but I know that the question that's on everybody's mind is:How is that playing into the here and now?PS: You know, we describe Sentinel as a pandemic preemption system,and here we are in a pandemic. But what's great is that, actually, the same tools you needto preempt a pandemicare the ones that you need to respond to one. And so all of the technologies that we have laid out --the point-of-care testing, the multiplex testing,the discovery and tracking of the virus as it's changing,and the overlay of the mobile applications to dashboard --are all critical. CH: For us, it is a war. We are basically committed for 24 hours' turnaround timein order to give results,and that requires for us to work around the clock nonstop. So it's a pretty challenging moment. We are away from family. At least I have the privilege to see family today,and then I'm sure tomorrow I'm heading back in the trenches. In my lab, we sequenced the first COVID-19 genomeon the African continent,and that really was done within 48 hours. This is revolutionary coming from Africaand then making this information available for the global health communityto see what the virus within Africa looks like. I believe that with technologies and knowledgeand then sharing information,we can do better and then we can overcome. PS: The whole idea of Sentinelis that we all stand guard over each other. We all watch. Each one of us is a sentinel. Each one of us, being able to monitor what is making us sick,can share that with the rest of our community. And I think that is what I profoundly want,is for us to all stand guardand watch over each other. [Dr.  Pardis Sabeti and Dr.  Christian Happi][Ingenious scientists. Courageous partners. Global heroes. ]\""
      ]
     },
     "execution_count": 41,
     "metadata": {},
     "output_type": "execute_result"
    }
   ],
   "source": [
    "text"
   ]
  },
  {
   "cell_type": "markdown",
   "metadata": {},
   "source": [
    "Part 2: Text summarization"
   ]
  },
  {
   "cell_type": "code",
   "execution_count": 11,
   "metadata": {},
   "outputs": [
    {
     "name": "stdout",
     "output_type": "stream",
     "text": [
      "Requirement already satisfied: gensim in /Users/basile/anaconda3/envs/NLP/lib/python3.7/site-packages (3.8.3)\n",
      "Requirement already satisfied: numpy>=1.11.3 in /Users/basile/anaconda3/envs/NLP/lib/python3.7/site-packages (from gensim) (1.18.4)\n",
      "Requirement already satisfied: smart-open>=1.8.1 in /Users/basile/anaconda3/envs/NLP/lib/python3.7/site-packages (from gensim) (2.0.0)\n",
      "Requirement already satisfied: six>=1.5.0 in /Users/basile/anaconda3/envs/NLP/lib/python3.7/site-packages (from gensim) (1.15.0)\n",
      "Requirement already satisfied: scipy>=0.18.1 in /Users/basile/anaconda3/envs/NLP/lib/python3.7/site-packages (from gensim) (1.4.1)\n",
      "Requirement already satisfied: requests in /Users/basile/anaconda3/envs/NLP/lib/python3.7/site-packages (from smart-open>=1.8.1->gensim) (2.23.0)\n",
      "Requirement already satisfied: boto in /Users/basile/anaconda3/envs/NLP/lib/python3.7/site-packages (from smart-open>=1.8.1->gensim) (2.49.0)\n",
      "Requirement already satisfied: boto3 in /Users/basile/anaconda3/envs/NLP/lib/python3.7/site-packages (from smart-open>=1.8.1->gensim) (1.13.16)\n",
      "Requirement already satisfied: urllib3!=1.25.0,!=1.25.1,<1.26,>=1.21.1 in /Users/basile/anaconda3/envs/NLP/lib/python3.7/site-packages (from requests->smart-open>=1.8.1->gensim) (1.25.9)\n",
      "Requirement already satisfied: idna<3,>=2.5 in /Users/basile/anaconda3/envs/NLP/lib/python3.7/site-packages (from requests->smart-open>=1.8.1->gensim) (2.9)\n",
      "Requirement already satisfied: certifi>=2017.4.17 in /Users/basile/anaconda3/envs/NLP/lib/python3.7/site-packages (from requests->smart-open>=1.8.1->gensim) (2020.4.5.1)\n",
      "Requirement already satisfied: chardet<4,>=3.0.2 in /Users/basile/anaconda3/envs/NLP/lib/python3.7/site-packages (from requests->smart-open>=1.8.1->gensim) (3.0.4)\n",
      "Requirement already satisfied: s3transfer<0.4.0,>=0.3.0 in /Users/basile/anaconda3/envs/NLP/lib/python3.7/site-packages (from boto3->smart-open>=1.8.1->gensim) (0.3.3)\n",
      "Requirement already satisfied: botocore<1.17.0,>=1.16.16 in /Users/basile/anaconda3/envs/NLP/lib/python3.7/site-packages (from boto3->smart-open>=1.8.1->gensim) (1.16.16)\n",
      "Requirement already satisfied: jmespath<1.0.0,>=0.7.1 in /Users/basile/anaconda3/envs/NLP/lib/python3.7/site-packages (from boto3->smart-open>=1.8.1->gensim) (0.10.0)\n",
      "Requirement already satisfied: python-dateutil<3.0.0,>=2.1 in /Users/basile/anaconda3/envs/NLP/lib/python3.7/site-packages (from botocore<1.17.0,>=1.16.16->boto3->smart-open>=1.8.1->gensim) (2.8.1)\n",
      "Requirement already satisfied: docutils<0.16,>=0.10 in /Users/basile/anaconda3/envs/NLP/lib/python3.7/site-packages (from botocore<1.17.0,>=1.16.16->boto3->smart-open>=1.8.1->gensim) (0.15.2)\n"
     ]
    }
   ],
   "source": [
    "!pip install gensim"
   ]
  },
  {
   "cell_type": "code",
   "execution_count": 12,
   "metadata": {},
   "outputs": [],
   "source": [
    "from gensim.summarization import summarize"
   ]
  },
  {
   "cell_type": "code",
   "execution_count": 42,
   "metadata": {},
   "outputs": [
    {
     "name": "stdout",
     "output_type": "stream",
     "text": [
      "[In January 2020,Christian Happi and Pardis Sabeti presented an Audacious idea][Sentinel: An early warning system to detect and track the next pandemic][Here's how it would work .\n",
      "]Christian Happi: Sentinel is a proactive early warning system to preempt pandemics.\n",
      "Pardis Sabeti: The first pillar is Detect.\n",
      "Reading out the complete genetic information of a microbe,it allows us to identify viruses, even those we've never seen before,track them as they spreadand watch for new mutations.\n",
      "An outbreak surveillance system can only succeedif we empower frontline health workers that are already out theretaking care of communities.\n"
     ]
    }
   ],
   "source": [
    "print(summarize(text, ratio = 0.1  ))"
   ]
  },
  {
   "cell_type": "code",
   "execution_count": 120,
   "metadata": {},
   "outputs": [
    {
     "name": "stdout",
     "output_type": "stream",
     "text": [
      "# conda environments:\n",
      "#\n",
      "                         /Users/basile/Desktop/Master Thesis/ENTER\n",
      "base                     /Users/basile/anaconda3\n",
      "Bert                     /Users/basile/anaconda3/envs/Bert\n",
      "NLP                   *  /Users/basile/anaconda3/envs/NLP\n",
      "\n"
     ]
    }
   ],
   "source": [
    "!conda env list"
   ]
  },
  {
   "cell_type": "code",
   "execution_count": 121,
   "metadata": {},
   "outputs": [
    {
     "name": "stdout",
     "output_type": "stream",
     "text": [
      "Requirement already satisfied: tensorflow in /Users/basile/anaconda3/envs/NLP/lib/python3.7/site-packages (2.0.0)\n",
      "Requirement already satisfied: wheel>=0.26 in /Users/basile/anaconda3/envs/NLP/lib/python3.7/site-packages (from tensorflow) (0.34.2)\n",
      "Requirement already satisfied: astor>=0.6.0 in /Users/basile/anaconda3/envs/NLP/lib/python3.7/site-packages (from tensorflow) (0.8.0)\n",
      "Requirement already satisfied: google-pasta>=0.1.6 in /Users/basile/anaconda3/envs/NLP/lib/python3.7/site-packages (from tensorflow) (0.2.0)\n",
      "Requirement already satisfied: gast==0.2.2 in /Users/basile/anaconda3/envs/NLP/lib/python3.7/site-packages (from tensorflow) (0.2.2)\n",
      "Requirement already satisfied: tensorboard<2.1.0,>=2.0.0 in /Users/basile/anaconda3/envs/NLP/lib/python3.7/site-packages (from tensorflow) (2.0.0)\n",
      "Requirement already satisfied: tensorflow-estimator<2.1.0,>=2.0.0 in /Users/basile/anaconda3/envs/NLP/lib/python3.7/site-packages (from tensorflow) (2.0.0)\n",
      "Requirement already satisfied: keras-preprocessing>=1.0.5 in /Users/basile/anaconda3/envs/NLP/lib/python3.7/site-packages (from tensorflow) (1.1.0)\n",
      "Requirement already satisfied: six>=1.10.0 in /Users/basile/anaconda3/envs/NLP/lib/python3.7/site-packages (from tensorflow) (1.15.0)\n",
      "Requirement already satisfied: protobuf>=3.6.1 in /Users/basile/anaconda3/envs/NLP/lib/python3.7/site-packages (from tensorflow) (3.11.4)\n",
      "Requirement already satisfied: keras-applications>=1.0.8 in /Users/basile/anaconda3/envs/NLP/lib/python3.7/site-packages (from tensorflow) (1.0.8)\n",
      "Requirement already satisfied: absl-py>=0.7.0 in /Users/basile/anaconda3/envs/NLP/lib/python3.7/site-packages (from tensorflow) (0.9.0)\n",
      "Requirement already satisfied: wrapt>=1.11.1 in /Users/basile/anaconda3/envs/NLP/lib/python3.7/site-packages (from tensorflow) (1.12.1)\n",
      "Requirement already satisfied: opt-einsum>=2.3.2 in /Users/basile/anaconda3/envs/NLP/lib/python3.7/site-packages (from tensorflow) (3.1.0)\n",
      "Requirement already satisfied: termcolor>=1.1.0 in /Users/basile/anaconda3/envs/NLP/lib/python3.7/site-packages (from tensorflow) (1.1.0)\n",
      "Requirement already satisfied: numpy<2.0,>=1.16.0 in /Users/basile/anaconda3/envs/NLP/lib/python3.7/site-packages (from tensorflow) (1.18.4)\n",
      "Requirement already satisfied: grpcio>=1.8.6 in /Users/basile/anaconda3/envs/NLP/lib/python3.7/site-packages (from tensorflow) (1.16.1)\n",
      "Requirement already satisfied: werkzeug>=0.11.15 in /Users/basile/anaconda3/envs/NLP/lib/python3.7/site-packages (from tensorboard<2.1.0,>=2.0.0->tensorflow) (1.0.1)\n",
      "Requirement already satisfied: markdown>=2.6.8 in /Users/basile/anaconda3/envs/NLP/lib/python3.7/site-packages (from tensorboard<2.1.0,>=2.0.0->tensorflow) (3.1.1)\n",
      "Requirement already satisfied: setuptools>=41.0.0 in /Users/basile/anaconda3/envs/NLP/lib/python3.7/site-packages (from tensorboard<2.1.0,>=2.0.0->tensorflow) (46.0.0.post20200309)\n",
      "Requirement already satisfied: h5py in /Users/basile/anaconda3/envs/NLP/lib/python3.7/site-packages (from keras-applications>=1.0.8->tensorflow) (2.10.0)\n"
     ]
    }
   ],
   "source": [
    "!pip install tensorflow"
   ]
  },
  {
   "cell_type": "code",
   "execution_count": 25,
   "metadata": {},
   "outputs": [
    {
     "name": "stdout",
     "output_type": "stream",
     "text": [
      "Requirement already satisfied: transformers==2.8.0 in /Users/basile/anaconda3/envs/NLP/lib/python3.7/site-packages (2.8.0)\n",
      "Requirement already satisfied: requests in /Users/basile/anaconda3/envs/NLP/lib/python3.7/site-packages (from transformers==2.8.0) (2.23.0)\n",
      "Requirement already satisfied: sentencepiece in /Users/basile/anaconda3/envs/NLP/lib/python3.7/site-packages (from transformers==2.8.0) (0.1.91)\n",
      "Requirement already satisfied: boto3 in /Users/basile/anaconda3/envs/NLP/lib/python3.7/site-packages (from transformers==2.8.0) (1.13.16)\n",
      "Requirement already satisfied: regex!=2019.12.17 in /Users/basile/anaconda3/envs/NLP/lib/python3.7/site-packages (from transformers==2.8.0) (2020.5.14)\n",
      "Requirement already satisfied: tqdm>=4.27 in /Users/basile/anaconda3/envs/NLP/lib/python3.7/site-packages (from transformers==2.8.0) (4.46.0)\n",
      "Requirement already satisfied: sacremoses in /Users/basile/anaconda3/envs/NLP/lib/python3.7/site-packages (from transformers==2.8.0) (0.0.43)\n",
      "Requirement already satisfied: numpy in /Users/basile/anaconda3/envs/NLP/lib/python3.7/site-packages (from transformers==2.8.0) (1.18.4)\n",
      "Requirement already satisfied: tokenizers==0.5.2 in /Users/basile/anaconda3/envs/NLP/lib/python3.7/site-packages (from transformers==2.8.0) (0.5.2)\n",
      "Requirement already satisfied: filelock in /Users/basile/anaconda3/envs/NLP/lib/python3.7/site-packages (from transformers==2.8.0) (3.0.12)\n",
      "Requirement already satisfied: chardet<4,>=3.0.2 in /Users/basile/anaconda3/envs/NLP/lib/python3.7/site-packages (from requests->transformers==2.8.0) (3.0.4)\n",
      "Requirement already satisfied: certifi>=2017.4.17 in /Users/basile/anaconda3/envs/NLP/lib/python3.7/site-packages (from requests->transformers==2.8.0) (2020.4.5.1)\n",
      "Requirement already satisfied: idna<3,>=2.5 in /Users/basile/anaconda3/envs/NLP/lib/python3.7/site-packages (from requests->transformers==2.8.0) (2.9)\n",
      "Requirement already satisfied: urllib3!=1.25.0,!=1.25.1,<1.26,>=1.21.1 in /Users/basile/anaconda3/envs/NLP/lib/python3.7/site-packages (from requests->transformers==2.8.0) (1.25.9)\n",
      "Requirement already satisfied: s3transfer<0.4.0,>=0.3.0 in /Users/basile/anaconda3/envs/NLP/lib/python3.7/site-packages (from boto3->transformers==2.8.0) (0.3.3)\n",
      "Requirement already satisfied: botocore<1.17.0,>=1.16.16 in /Users/basile/anaconda3/envs/NLP/lib/python3.7/site-packages (from boto3->transformers==2.8.0) (1.16.16)\n",
      "Requirement already satisfied: jmespath<1.0.0,>=0.7.1 in /Users/basile/anaconda3/envs/NLP/lib/python3.7/site-packages (from boto3->transformers==2.8.0) (0.10.0)\n",
      "Requirement already satisfied: joblib in /Users/basile/anaconda3/envs/NLP/lib/python3.7/site-packages (from sacremoses->transformers==2.8.0) (0.15.1)\n",
      "Requirement already satisfied: six in /Users/basile/anaconda3/envs/NLP/lib/python3.7/site-packages (from sacremoses->transformers==2.8.0) (1.15.0)\n",
      "Requirement already satisfied: click in /Users/basile/anaconda3/envs/NLP/lib/python3.7/site-packages (from sacremoses->transformers==2.8.0) (7.1.2)\n",
      "Requirement already satisfied: python-dateutil<3.0.0,>=2.1 in /Users/basile/anaconda3/envs/NLP/lib/python3.7/site-packages (from botocore<1.17.0,>=1.16.16->boto3->transformers==2.8.0) (2.8.1)\n",
      "Requirement already satisfied: docutils<0.16,>=0.10 in /Users/basile/anaconda3/envs/NLP/lib/python3.7/site-packages (from botocore<1.17.0,>=1.16.16->boto3->transformers==2.8.0) (0.15.2)\n",
      "Requirement already satisfied: torch==1.4.0 in /Users/basile/anaconda3/envs/NLP/lib/python3.7/site-packages (1.4.0)\n"
     ]
    }
   ],
   "source": [
    "!source $HOME/.cargo/env\n",
    "!pip install transformers==2.8.0\n",
    "!pip install torch==1.4.0"
   ]
  },
  {
   "cell_type": "code",
   "execution_count": 26,
   "metadata": {},
   "outputs": [
    {
     "name": "stdout",
     "output_type": "stream",
     "text": [
      "# conda environments:\r\n",
      "#\r\n",
      "                         /Users/basile/Desktop/Master Thesis/ENTER\r\n",
      "base                     /Users/basile/anaconda3\r\n",
      "Bert                     /Users/basile/anaconda3/envs/Bert\r\n",
      "NLP                   *  /Users/basile/anaconda3/envs/NLP\r\n",
      "\r\n"
     ]
    }
   ],
   "source": [
    "!conda env list"
   ]
  },
  {
   "cell_type": "code",
   "execution_count": 10,
   "metadata": {},
   "outputs": [
    {
     "name": "stdout",
     "output_type": "stream",
     "text": [
      "Collecting ipywidgets\n",
      "  Downloading ipywidgets-7.5.1-py2.py3-none-any.whl (121 kB)\n",
      "\u001b[K     |████████████████████████████████| 121 kB 1.3 MB/s eta 0:00:01\n",
      "\u001b[?25hRequirement already satisfied: traitlets>=4.3.1 in /Users/basile/anaconda3/envs/NLP/lib/python3.7/site-packages (from ipywidgets) (4.3.3)\n",
      "Requirement already satisfied: nbformat>=4.2.0 in /Users/basile/anaconda3/envs/NLP/lib/python3.7/site-packages (from ipywidgets) (5.0.6)\n",
      "Requirement already satisfied: ipython>=4.0.0; python_version >= \"3.3\" in /Users/basile/anaconda3/envs/NLP/lib/python3.7/site-packages (from ipywidgets) (7.13.0)\n",
      "Collecting widgetsnbextension~=3.5.0\n",
      "  Downloading widgetsnbextension-3.5.1-py2.py3-none-any.whl (2.2 MB)\n",
      "\u001b[K     |████████████████████████████████| 2.2 MB 1.1 MB/s eta 0:00:01\n",
      "\u001b[?25hRequirement already satisfied: ipykernel>=4.5.1 in /Users/basile/anaconda3/envs/NLP/lib/python3.7/site-packages (from ipywidgets) (5.1.4)\n",
      "Requirement already satisfied: ipython-genutils in /Users/basile/anaconda3/envs/NLP/lib/python3.7/site-packages (from traitlets>=4.3.1->ipywidgets) (0.2.0)\n",
      "Requirement already satisfied: six in /Users/basile/anaconda3/envs/NLP/lib/python3.7/site-packages (from traitlets>=4.3.1->ipywidgets) (1.15.0)\n",
      "Requirement already satisfied: decorator in /Users/basile/anaconda3/envs/NLP/lib/python3.7/site-packages (from traitlets>=4.3.1->ipywidgets) (4.4.2)\n",
      "Requirement already satisfied: jsonschema!=2.5.0,>=2.4 in /Users/basile/anaconda3/envs/NLP/lib/python3.7/site-packages (from nbformat>=4.2.0->ipywidgets) (2.6.0)\n",
      "Requirement already satisfied: jupyter-core in /Users/basile/anaconda3/envs/NLP/lib/python3.7/site-packages (from nbformat>=4.2.0->ipywidgets) (4.6.3)\n",
      "Requirement already satisfied: backcall in /Users/basile/anaconda3/envs/NLP/lib/python3.7/site-packages (from ipython>=4.0.0; python_version >= \"3.3\"->ipywidgets) (0.1.0)\n",
      "Requirement already satisfied: appnope; sys_platform == \"darwin\" in /Users/basile/anaconda3/envs/NLP/lib/python3.7/site-packages (from ipython>=4.0.0; python_version >= \"3.3\"->ipywidgets) (0.1.0)\n",
      "Requirement already satisfied: pickleshare in /Users/basile/anaconda3/envs/NLP/lib/python3.7/site-packages (from ipython>=4.0.0; python_version >= \"3.3\"->ipywidgets) (0.7.5)\n",
      "Requirement already satisfied: pexpect; sys_platform != \"win32\" in /Users/basile/anaconda3/envs/NLP/lib/python3.7/site-packages (from ipython>=4.0.0; python_version >= \"3.3\"->ipywidgets) (4.8.0)\n",
      "Requirement already satisfied: setuptools>=18.5 in /Users/basile/anaconda3/envs/NLP/lib/python3.7/site-packages (from ipython>=4.0.0; python_version >= \"3.3\"->ipywidgets) (46.0.0.post20200309)\n",
      "Requirement already satisfied: jedi>=0.10 in /Users/basile/anaconda3/envs/NLP/lib/python3.7/site-packages (from ipython>=4.0.0; python_version >= \"3.3\"->ipywidgets) (0.17.0)\n",
      "Requirement already satisfied: prompt-toolkit!=3.0.0,!=3.0.1,<3.1.0,>=2.0.0 in /Users/basile/anaconda3/envs/NLP/lib/python3.7/site-packages (from ipython>=4.0.0; python_version >= \"3.3\"->ipywidgets) (3.0.4)\n",
      "Requirement already satisfied: pygments in /Users/basile/anaconda3/envs/NLP/lib/python3.7/site-packages (from ipython>=4.0.0; python_version >= \"3.3\"->ipywidgets) (2.6.1)\n",
      "Requirement already satisfied: notebook>=4.4.1 in /Users/basile/anaconda3/envs/NLP/lib/python3.7/site-packages (from widgetsnbextension~=3.5.0->ipywidgets) (6.0.3)\n",
      "Requirement already satisfied: jupyter-client in /Users/basile/anaconda3/envs/NLP/lib/python3.7/site-packages (from ipykernel>=4.5.1->ipywidgets) (6.1.3)\n",
      "Requirement already satisfied: tornado>=4.2 in /Users/basile/anaconda3/envs/NLP/lib/python3.7/site-packages (from ipykernel>=4.5.1->ipywidgets) (6.0.4)\n",
      "Requirement already satisfied: ptyprocess>=0.5 in /Users/basile/anaconda3/envs/NLP/lib/python3.7/site-packages (from pexpect; sys_platform != \"win32\"->ipython>=4.0.0; python_version >= \"3.3\"->ipywidgets) (0.6.0)\n",
      "Requirement already satisfied: parso>=0.7.0 in /Users/basile/anaconda3/envs/NLP/lib/python3.7/site-packages (from jedi>=0.10->ipython>=4.0.0; python_version >= \"3.3\"->ipywidgets) (0.7.0)\n",
      "Requirement already satisfied: wcwidth in /Users/basile/anaconda3/envs/NLP/lib/python3.7/site-packages (from prompt-toolkit!=3.0.0,!=3.0.1,<3.1.0,>=2.0.0->ipython>=4.0.0; python_version >= \"3.3\"->ipywidgets) (0.1.9)\n",
      "Requirement already satisfied: prometheus-client in /Users/basile/anaconda3/envs/NLP/lib/python3.7/site-packages (from notebook>=4.4.1->widgetsnbextension~=3.5.0->ipywidgets) (0.7.1)\n",
      "Requirement already satisfied: pyzmq>=17 in /Users/basile/anaconda3/envs/NLP/lib/python3.7/site-packages (from notebook>=4.4.1->widgetsnbextension~=3.5.0->ipywidgets) (18.1.1)\n",
      "Requirement already satisfied: Send2Trash in /Users/basile/anaconda3/envs/NLP/lib/python3.7/site-packages (from notebook>=4.4.1->widgetsnbextension~=3.5.0->ipywidgets) (1.5.0)\n",
      "Requirement already satisfied: jinja2 in /Users/basile/anaconda3/envs/NLP/lib/python3.7/site-packages (from notebook>=4.4.1->widgetsnbextension~=3.5.0->ipywidgets) (2.11.2)\n",
      "Requirement already satisfied: terminado>=0.8.1 in /Users/basile/anaconda3/envs/NLP/lib/python3.7/site-packages (from notebook>=4.4.1->widgetsnbextension~=3.5.0->ipywidgets) (0.8.3)\n",
      "Requirement already satisfied: nbconvert in /Users/basile/anaconda3/envs/NLP/lib/python3.7/site-packages (from notebook>=4.4.1->widgetsnbextension~=3.5.0->ipywidgets) (5.6.1)\n",
      "Requirement already satisfied: python-dateutil>=2.1 in /Users/basile/anaconda3/envs/NLP/lib/python3.7/site-packages (from jupyter-client->ipykernel>=4.5.1->ipywidgets) (2.8.1)\n",
      "Requirement already satisfied: MarkupSafe>=0.23 in /Users/basile/anaconda3/envs/NLP/lib/python3.7/site-packages (from jinja2->notebook>=4.4.1->widgetsnbextension~=3.5.0->ipywidgets) (1.1.1)\n",
      "Requirement already satisfied: defusedxml in /Users/basile/anaconda3/envs/NLP/lib/python3.7/site-packages (from nbconvert->notebook>=4.4.1->widgetsnbextension~=3.5.0->ipywidgets) (0.6.0)\n",
      "Requirement already satisfied: pandocfilters>=1.4.1 in /Users/basile/anaconda3/envs/NLP/lib/python3.7/site-packages (from nbconvert->notebook>=4.4.1->widgetsnbextension~=3.5.0->ipywidgets) (1.4.2)\n",
      "Requirement already satisfied: bleach in /Users/basile/anaconda3/envs/NLP/lib/python3.7/site-packages (from nbconvert->notebook>=4.4.1->widgetsnbextension~=3.5.0->ipywidgets) (3.1.4)\n",
      "Requirement already satisfied: mistune<2,>=0.8.1 in /Users/basile/anaconda3/envs/NLP/lib/python3.7/site-packages (from nbconvert->notebook>=4.4.1->widgetsnbextension~=3.5.0->ipywidgets) (0.8.4)\n",
      "Requirement already satisfied: testpath in /Users/basile/anaconda3/envs/NLP/lib/python3.7/site-packages (from nbconvert->notebook>=4.4.1->widgetsnbextension~=3.5.0->ipywidgets) (0.4.4)\n",
      "Requirement already satisfied: entrypoints>=0.2.2 in /Users/basile/anaconda3/envs/NLP/lib/python3.7/site-packages (from nbconvert->notebook>=4.4.1->widgetsnbextension~=3.5.0->ipywidgets) (0.3)\n",
      "Requirement already satisfied: webencodings in /Users/basile/anaconda3/envs/NLP/lib/python3.7/site-packages (from bleach->nbconvert->notebook>=4.4.1->widgetsnbextension~=3.5.0->ipywidgets) (0.5.1)\n",
      "Installing collected packages: widgetsnbextension, ipywidgets\n",
      "Successfully installed ipywidgets-7.5.1 widgetsnbextension-3.5.1\n"
     ]
    }
   ],
   "source": [
    "!pip install ipywidgets"
   ]
  },
  {
   "cell_type": "code",
   "execution_count": 23,
   "metadata": {},
   "outputs": [
    {
     "name": "stdout",
     "output_type": "stream",
     "text": [
      "Requirement already satisfied: ipywidgets in /Users/basile/anaconda3/envs/NLP/lib/python3.7/site-packages (7.5.1)\n",
      "Requirement already satisfied: ipython>=4.0.0; python_version >= \"3.3\" in /Users/basile/anaconda3/envs/NLP/lib/python3.7/site-packages (from ipywidgets) (7.13.0)\n",
      "Requirement already satisfied: traitlets>=4.3.1 in /Users/basile/anaconda3/envs/NLP/lib/python3.7/site-packages (from ipywidgets) (4.3.3)\n",
      "Requirement already satisfied: widgetsnbextension~=3.5.0 in /Users/basile/anaconda3/envs/NLP/lib/python3.7/site-packages (from ipywidgets) (3.5.1)\n",
      "Requirement already satisfied: nbformat>=4.2.0 in /Users/basile/anaconda3/envs/NLP/lib/python3.7/site-packages (from ipywidgets) (5.0.6)\n",
      "Requirement already satisfied: ipykernel>=4.5.1 in /Users/basile/anaconda3/envs/NLP/lib/python3.7/site-packages (from ipywidgets) (5.1.4)\n",
      "Requirement already satisfied: decorator in /Users/basile/anaconda3/envs/NLP/lib/python3.7/site-packages (from ipython>=4.0.0; python_version >= \"3.3\"->ipywidgets) (4.4.2)\n",
      "Requirement already satisfied: appnope; sys_platform == \"darwin\" in /Users/basile/anaconda3/envs/NLP/lib/python3.7/site-packages (from ipython>=4.0.0; python_version >= \"3.3\"->ipywidgets) (0.1.0)\n",
      "Requirement already satisfied: jedi>=0.10 in /Users/basile/anaconda3/envs/NLP/lib/python3.7/site-packages (from ipython>=4.0.0; python_version >= \"3.3\"->ipywidgets) (0.17.0)\n",
      "Requirement already satisfied: pickleshare in /Users/basile/anaconda3/envs/NLP/lib/python3.7/site-packages (from ipython>=4.0.0; python_version >= \"3.3\"->ipywidgets) (0.7.5)\n",
      "Requirement already satisfied: pexpect; sys_platform != \"win32\" in /Users/basile/anaconda3/envs/NLP/lib/python3.7/site-packages (from ipython>=4.0.0; python_version >= \"3.3\"->ipywidgets) (4.8.0)\n",
      "Requirement already satisfied: pygments in /Users/basile/anaconda3/envs/NLP/lib/python3.7/site-packages (from ipython>=4.0.0; python_version >= \"3.3\"->ipywidgets) (2.6.1)\n",
      "Requirement already satisfied: setuptools>=18.5 in /Users/basile/anaconda3/envs/NLP/lib/python3.7/site-packages (from ipython>=4.0.0; python_version >= \"3.3\"->ipywidgets) (46.0.0.post20200309)\n",
      "Requirement already satisfied: prompt-toolkit!=3.0.0,!=3.0.1,<3.1.0,>=2.0.0 in /Users/basile/anaconda3/envs/NLP/lib/python3.7/site-packages (from ipython>=4.0.0; python_version >= \"3.3\"->ipywidgets) (3.0.4)\n",
      "Requirement already satisfied: backcall in /Users/basile/anaconda3/envs/NLP/lib/python3.7/site-packages (from ipython>=4.0.0; python_version >= \"3.3\"->ipywidgets) (0.1.0)\n",
      "Requirement already satisfied: ipython-genutils in /Users/basile/anaconda3/envs/NLP/lib/python3.7/site-packages (from traitlets>=4.3.1->ipywidgets) (0.2.0)\n",
      "Requirement already satisfied: six in /Users/basile/anaconda3/envs/NLP/lib/python3.7/site-packages (from traitlets>=4.3.1->ipywidgets) (1.15.0)\n",
      "Requirement already satisfied: notebook>=4.4.1 in /Users/basile/anaconda3/envs/NLP/lib/python3.7/site-packages (from widgetsnbextension~=3.5.0->ipywidgets) (6.0.3)\n",
      "Requirement already satisfied: jsonschema!=2.5.0,>=2.4 in /Users/basile/anaconda3/envs/NLP/lib/python3.7/site-packages (from nbformat>=4.2.0->ipywidgets) (3.2.0)\n",
      "Requirement already satisfied: jupyter-core in /Users/basile/anaconda3/envs/NLP/lib/python3.7/site-packages (from nbformat>=4.2.0->ipywidgets) (4.6.3)\n",
      "Requirement already satisfied: tornado>=4.2 in /Users/basile/anaconda3/envs/NLP/lib/python3.7/site-packages (from ipykernel>=4.5.1->ipywidgets) (6.0.4)\n",
      "Requirement already satisfied: jupyter-client in /Users/basile/anaconda3/envs/NLP/lib/python3.7/site-packages (from ipykernel>=4.5.1->ipywidgets) (6.1.3)\n",
      "Requirement already satisfied: parso>=0.7.0 in /Users/basile/anaconda3/envs/NLP/lib/python3.7/site-packages (from jedi>=0.10->ipython>=4.0.0; python_version >= \"3.3\"->ipywidgets) (0.7.0)\n",
      "Requirement already satisfied: ptyprocess>=0.5 in /Users/basile/anaconda3/envs/NLP/lib/python3.7/site-packages (from pexpect; sys_platform != \"win32\"->ipython>=4.0.0; python_version >= \"3.3\"->ipywidgets) (0.6.0)\n",
      "Requirement already satisfied: wcwidth in /Users/basile/anaconda3/envs/NLP/lib/python3.7/site-packages (from prompt-toolkit!=3.0.0,!=3.0.1,<3.1.0,>=2.0.0->ipython>=4.0.0; python_version >= \"3.3\"->ipywidgets) (0.1.9)\n",
      "Requirement already satisfied: prometheus-client in /Users/basile/anaconda3/envs/NLP/lib/python3.7/site-packages (from notebook>=4.4.1->widgetsnbextension~=3.5.0->ipywidgets) (0.7.1)\n",
      "Requirement already satisfied: pyzmq>=17 in /Users/basile/anaconda3/envs/NLP/lib/python3.7/site-packages (from notebook>=4.4.1->widgetsnbextension~=3.5.0->ipywidgets) (18.1.1)\n",
      "Requirement already satisfied: Send2Trash in /Users/basile/anaconda3/envs/NLP/lib/python3.7/site-packages (from notebook>=4.4.1->widgetsnbextension~=3.5.0->ipywidgets) (1.5.0)\n",
      "Requirement already satisfied: jinja2 in /Users/basile/anaconda3/envs/NLP/lib/python3.7/site-packages (from notebook>=4.4.1->widgetsnbextension~=3.5.0->ipywidgets) (2.11.2)\n",
      "Requirement already satisfied: terminado>=0.8.1 in /Users/basile/anaconda3/envs/NLP/lib/python3.7/site-packages (from notebook>=4.4.1->widgetsnbextension~=3.5.0->ipywidgets) (0.8.3)\n",
      "Requirement already satisfied: nbconvert in /Users/basile/anaconda3/envs/NLP/lib/python3.7/site-packages (from notebook>=4.4.1->widgetsnbextension~=3.5.0->ipywidgets) (5.6.1)\n",
      "Requirement already satisfied: attrs>=17.4.0 in /Users/basile/anaconda3/envs/NLP/lib/python3.7/site-packages (from jsonschema!=2.5.0,>=2.4->nbformat>=4.2.0->ipywidgets) (19.3.0)\n",
      "Requirement already satisfied: pyrsistent>=0.14.0 in /Users/basile/anaconda3/envs/NLP/lib/python3.7/site-packages (from jsonschema!=2.5.0,>=2.4->nbformat>=4.2.0->ipywidgets) (0.16.0)\n",
      "Requirement already satisfied: importlib-metadata; python_version < \"3.8\" in /Users/basile/anaconda3/envs/NLP/lib/python3.7/site-packages (from jsonschema!=2.5.0,>=2.4->nbformat>=4.2.0->ipywidgets) (1.5.0)\n",
      "Requirement already satisfied: python-dateutil>=2.1 in /Users/basile/anaconda3/envs/NLP/lib/python3.7/site-packages (from jupyter-client->ipykernel>=4.5.1->ipywidgets) (2.8.1)\n",
      "Requirement already satisfied: MarkupSafe>=0.23 in /Users/basile/anaconda3/envs/NLP/lib/python3.7/site-packages (from jinja2->notebook>=4.4.1->widgetsnbextension~=3.5.0->ipywidgets) (1.1.1)\n",
      "Requirement already satisfied: defusedxml in /Users/basile/anaconda3/envs/NLP/lib/python3.7/site-packages (from nbconvert->notebook>=4.4.1->widgetsnbextension~=3.5.0->ipywidgets) (0.6.0)\n",
      "Requirement already satisfied: bleach in /Users/basile/anaconda3/envs/NLP/lib/python3.7/site-packages (from nbconvert->notebook>=4.4.1->widgetsnbextension~=3.5.0->ipywidgets) (3.1.4)\n",
      "Requirement already satisfied: entrypoints>=0.2.2 in /Users/basile/anaconda3/envs/NLP/lib/python3.7/site-packages (from nbconvert->notebook>=4.4.1->widgetsnbextension~=3.5.0->ipywidgets) (0.3)\n",
      "Requirement already satisfied: pandocfilters>=1.4.1 in /Users/basile/anaconda3/envs/NLP/lib/python3.7/site-packages (from nbconvert->notebook>=4.4.1->widgetsnbextension~=3.5.0->ipywidgets) (1.4.2)\n",
      "Requirement already satisfied: testpath in /Users/basile/anaconda3/envs/NLP/lib/python3.7/site-packages (from nbconvert->notebook>=4.4.1->widgetsnbextension~=3.5.0->ipywidgets) (0.4.4)\n",
      "Requirement already satisfied: mistune<2,>=0.8.1 in /Users/basile/anaconda3/envs/NLP/lib/python3.7/site-packages (from nbconvert->notebook>=4.4.1->widgetsnbextension~=3.5.0->ipywidgets) (0.8.4)\n",
      "Requirement already satisfied: zipp>=0.5 in /Users/basile/anaconda3/envs/NLP/lib/python3.7/site-packages (from importlib-metadata; python_version < \"3.8\"->jsonschema!=2.5.0,>=2.4->nbformat>=4.2.0->ipywidgets) (3.1.0)\n",
      "Requirement already satisfied: webencodings in /Users/basile/anaconda3/envs/NLP/lib/python3.7/site-packages (from bleach->nbconvert->notebook>=4.4.1->widgetsnbextension~=3.5.0->ipywidgets) (0.5.1)\n",
      "Enabling notebook extension jupyter-js-widgets/extension...\n",
      "      - Validating: \u001b[32mOK\u001b[0m\n"
     ]
    }
   ],
   "source": [
    "!pip install ipywidgets\n",
    "!jupyter nbextension enable --py widgetsnbextension --sys-prefix"
   ]
  },
  {
   "cell_type": "code",
   "execution_count": 14,
   "metadata": {},
   "outputs": [],
   "source": [
    "import torch\n",
    "import json \n",
    "import ipywidgets as widgets\n",
    "from transformers import T5Tokenizer, T5ForConditionalGeneration, T5Config\n"
   ]
  },
  {
   "cell_type": "code",
   "execution_count": 15,
   "metadata": {},
   "outputs": [],
   "source": [
    "from ipywidgets import FloatProgress"
   ]
  },
  {
   "cell_type": "code",
   "execution_count": 18,
   "metadata": {},
   "outputs": [
    {
     "data": {
      "application/vnd.jupyter.widget-view+json": {
       "model_id": "4f3d18bca71d4feb9608e3cbc0e4f211",
       "version_major": 2,
       "version_minor": 0
      },
      "text/plain": [
       "HBox(children=(FloatProgress(value=0.0, description='Downloading', max=1199.0, style=ProgressStyle(description…"
      ]
     },
     "metadata": {},
     "output_type": "display_data"
    },
    {
     "name": "stdout",
     "output_type": "stream",
     "text": [
      "\n"
     ]
    },
    {
     "data": {
      "application/vnd.jupyter.widget-view+json": {
       "model_id": "3c5d1663a963472a97f088006910a070",
       "version_major": 2,
       "version_minor": 0
      },
      "text/plain": [
       "HBox(children=(FloatProgress(value=0.0, description='Downloading', max=891691430.0, style=ProgressStyle(descri…"
      ]
     },
     "metadata": {},
     "output_type": "display_data"
    },
    {
     "name": "stdout",
     "output_type": "stream",
     "text": [
      "\n"
     ]
    }
   ],
   "source": [
    "model = T5ForConditionalGeneration.from_pretrained('t5-base')\n",
    "tokenizer = T5Tokenizer.from_pretrained('t5-base')\n",
    "device = torch.device('cpu')"
   ]
  },
  {
   "cell_type": "code",
   "execution_count": 32,
   "metadata": {},
   "outputs": [],
   "source": [
    "text =\"\"\"\n",
    "The US has \"passed the peak\" on new coronavirus cases, President Donald Trump said and predicted that some states would reopen this month.The US has over 637,000 confirmed Covid-19 cases and over 30,826 deaths, the highest for any country in the world.At the daily White House coronavirus briefing on Wednesday, Trump said new guidelines to reopen the country would be announced on Thursday after he speaks to governors.\"We'll be the comeback kids, all of us,\" he said. \"We want to get our country back.\"The Trump administration has previously fixed May 1 as a possible date to reopen the world's largest economy, but the president said some states may be able to return to normalcy earlier than that.\"\"\""
   ]
  },
  {
   "cell_type": "code",
   "execution_count": 43,
   "metadata": {},
   "outputs": [
    {
     "name": "stdout",
     "output_type": "stream",
     "text": [
      "original text preprocessed: \n",
      " [In January 2020,Christian Happi and Pardis Sabeti presented an Audacious idea][Sentinel: An early warning system to detect and track the next pandemic][Here's how it would work . . . ]Christian Happi: Sentinel is a proactive early warning system to preempt pandemics. It is built on three major pillars. Pardis Sabeti: The first pillar is Detect. Christian and I have been studying infectious diseases togetheraround the world for two decades. We have been using genome sequencing. Reading out the complete genetic information of a microbe,it allows us to identify viruses, even those we've never seen before,track them as they spreadand watch for new mutations. And now with the powerful gene-editing technology CRISPR,we can use this genetic informationto rapidly design exquisitely sensitive diagnostic tests for any microbe. CH: One of these tools is called SHERLOCK. It can be used to test known viruses on simple paper strips. It is very inexpensive,and frontline health workers can use SHERLOCKto detect the most common or the most threatening viruseswithin an hour. PS: The other tool is CARMEN. It requires a lab, but it can test for hundreds of viruses simultaneously. So hospital lab staff can test patient samplesfor a broad range of viruseswithin a day. Our second pillar is Connect. Connect everyone and share this informationacross the public health community. In most outbreaks,hospital staff share case information through paper, Excel -- if at all. This makes tracking an outbreak through space and timeand coordinating a responseextremely difficult. So we're developing a cloud-based system and mobile applicationsthat connect community health workers,clinicians, public health teams -- everyone --and allows them to upload data,perform analysis, share insightsand coordinate a response and action planin real time. CH: Our third pillar is Empower. An outbreak surveillance system can only succeedif we empower frontline health workers that are already out theretaking care of communities. It requires a lot of training. Pardis and I are very much aware of that. We've spent the past 10 yearstraining hundreds of young African scientists and clinicians. Over the next five years, we will train an additional 1,000 health workersto use Sentinel detection toolsand empower them to train their colleagues. This way, we will improve the original health care systemand integrate surveillance into medical practice. [Since presenting their Audacious plan at TED, the world has changed . . . ]Briar Goldberg: So here we are.  We're recording this. It's April 7th, 2020,and obviously, we are in the throes of this crazy global pandemiccaused by this new coronavirus. So you two have been working together forever,and you really came together pretty aggressivelywith the Ebola crisis back in 2014. What does it feel like from your perspective?CH: Pretty much six years after the Ebola outbreak,we're really facing another crisis,and we still pretty much, like, we never learned from the previous crisis. And that, really, for me, is heartbreaking. PS: I think that this pandemic has shown us how unprepared we areeverywhere in the world. Christian and our partners together had diagnostics at our hospital sitesin Nigeria, Sierra Leone and Senegal in early February. Most states in the United States didn't have it until far later. It tells us that we are all in this together,and we are all very much behind the curve. BG: So, this Sentinel system is amazing,but I know that the question that's on everybody's mind is:How is that playing into the here and now?PS: You know, we describe Sentinel as a pandemic preemption system,and here we are in a pandemic. But what's great is that, actually, the same tools you needto preempt a pandemicare the ones that you need to respond to one. And so all of the technologies that we have laid out --the point-of-care testing, the multiplex testing,the discovery and tracking of the virus as it's changing,and the overlay of the mobile applications to dashboard --are all critical. CH: For us, it is a war. We are basically committed for 24 hours' turnaround timein order to give results,and that requires for us to work around the clock nonstop. So it's a pretty challenging moment. We are away from family. At least I have the privilege to see family today,and then I'm sure tomorrow I'm heading back in the trenches. In my lab, we sequenced the first COVID-19 genomeon the African continent,and that really was done within 48 hours. This is revolutionary coming from Africaand then making this information available for the global health communityto see what the virus within Africa looks like. I believe that with technologies and knowledgeand then sharing information,we can do better and then we can overcome. PS: The whole idea of Sentinelis that we all stand guard over each other. We all watch. Each one of us is a sentinel. Each one of us, being able to monitor what is making us sick,can share that with the rest of our community. And I think that is what I profoundly want,is for us to all stand guardand watch over each other. [Dr.  Pardis Sabeti and Dr.  Christian Happi][Ingenious scientists. Courageous partners. Global heroes. ]\n"
     ]
    }
   ],
   "source": [
    "preprocess_text = text.strip().replace(\"\\n\",\"\")\n",
    "t5_prepared_Text = \"summarize: \"+preprocess_text\n",
    "print (\"original text preprocessed: \\n\", preprocess_text)\n",
    "\n",
    "tokenized_text = tokenizer.encode(t5_prepared_Text, return_tensors=\"pt\",add_special_tokens=True, max_length=1200).to(device)"
   ]
  },
  {
   "cell_type": "code",
   "execution_count": 59,
   "metadata": {},
   "outputs": [
    {
     "name": "stdout",
     "output_type": "stream",
     "text": [
      "\n",
      "\n",
      "Summarized text: \n",
      " 'sentinel' is an early warning system to detect and track the next pandemic. it is built on three major pillars: Detect, Empower, Connect and share information across the public health community. in most outbreaks,hospital staff share case information through paper, Excel. that makes tracking an outbreak through space and timeand coordinating a responseextremely difficult.\n"
     ]
    }
   ],
   "source": [
    "# summmarize \n",
    "summary_ids = model.generate(tokenized_text,\n",
    "                                    num_beams=4,\n",
    "                                    no_repeat_ngram_size=2,\n",
    "                                    min_length=50,\n",
    "                                    max_length=400,\n",
    "                                    early_stopping=False)\n",
    "\n",
    "output = tokenizer.decode(summary_ids[0], skip_special_tokens=True)\n",
    "\n",
    "print (\"\\n\\nSummarized text: \\n\",output)\n"
   ]
  },
  {
   "cell_type": "code",
   "execution_count": null,
   "metadata": {},
   "outputs": [],
   "source": []
  },
  {
   "cell_type": "code",
   "execution_count": null,
   "metadata": {},
   "outputs": [],
   "source": []
  },
  {
   "cell_type": "code",
   "execution_count": null,
   "metadata": {},
   "outputs": [],
   "source": []
  },
  {
   "cell_type": "code",
   "execution_count": null,
   "metadata": {},
   "outputs": [],
   "source": []
  },
  {
   "cell_type": "code",
   "execution_count": 56,
   "metadata": {},
   "outputs": [
    {
     "name": "stdout",
     "output_type": "stream",
     "text": [
      "'sentinel' is an early warning system to detect and track the next pandemic. it is built on three major pillars: Detect, Empower, Connect and share information across the public health community. in most outbreaks,hospital staff share case information through paper, Excel. that makes tracking an outbreak through space and timeand coordinating a responseextremely difficult.\n"
     ]
    }
   ],
   "source": [
    "print(tokenizer.decode(summary_ids[0], skip_special_tokens=True))"
   ]
  },
  {
   "cell_type": "code",
   "execution_count": null,
   "metadata": {},
   "outputs": [],
   "source": []
  },
  {
   "cell_type": "code",
   "execution_count": null,
   "metadata": {},
   "outputs": [],
   "source": []
  },
  {
   "cell_type": "code",
   "execution_count": null,
   "metadata": {},
   "outputs": [],
   "source": []
  },
  {
   "cell_type": "code",
   "execution_count": null,
   "metadata": {},
   "outputs": [],
   "source": []
  },
  {
   "cell_type": "code",
   "execution_count": null,
   "metadata": {},
   "outputs": [],
   "source": []
  },
  {
   "cell_type": "code",
   "execution_count": null,
   "metadata": {},
   "outputs": [],
   "source": []
  },
  {
   "cell_type": "code",
   "execution_count": null,
   "metadata": {},
   "outputs": [],
   "source": []
  },
  {
   "cell_type": "code",
   "execution_count": null,
   "metadata": {},
   "outputs": [],
   "source": []
  },
  {
   "cell_type": "code",
   "execution_count": 128,
   "metadata": {},
   "outputs": [],
   "source": []
  },
  {
   "cell_type": "code",
   "execution_count": null,
   "metadata": {},
   "outputs": [],
   "source": []
  },
  {
   "cell_type": "code",
   "execution_count": null,
   "metadata": {},
   "outputs": [],
   "source": []
  },
  {
   "cell_type": "code",
   "execution_count": null,
   "metadata": {},
   "outputs": [],
   "source": []
  },
  {
   "cell_type": "code",
   "execution_count": null,
   "metadata": {},
   "outputs": [],
   "source": []
  },
  {
   "cell_type": "code",
   "execution_count": null,
   "metadata": {},
   "outputs": [],
   "source": []
  },
  {
   "cell_type": "code",
   "execution_count": null,
   "metadata": {},
   "outputs": [],
   "source": []
  },
  {
   "cell_type": "code",
   "execution_count": null,
   "metadata": {},
   "outputs": [],
   "source": []
  },
  {
   "cell_type": "code",
   "execution_count": null,
   "metadata": {},
   "outputs": [],
   "source": []
  },
  {
   "cell_type": "code",
   "execution_count": null,
   "metadata": {},
   "outputs": [],
   "source": []
  },
  {
   "cell_type": "code",
   "execution_count": null,
   "metadata": {},
   "outputs": [],
   "source": []
  },
  {
   "cell_type": "code",
   "execution_count": null,
   "metadata": {},
   "outputs": [],
   "source": []
  },
  {
   "cell_type": "code",
   "execution_count": 59,
   "metadata": {},
   "outputs": [],
   "source": []
  },
  {
   "cell_type": "code",
   "execution_count": null,
   "metadata": {},
   "outputs": [],
   "source": []
  },
  {
   "cell_type": "code",
   "execution_count": null,
   "metadata": {},
   "outputs": [],
   "source": []
  },
  {
   "cell_type": "code",
   "execution_count": null,
   "metadata": {},
   "outputs": [],
   "source": []
  },
  {
   "cell_type": "code",
   "execution_count": null,
   "metadata": {},
   "outputs": [],
   "source": []
  },
  {
   "cell_type": "code",
   "execution_count": null,
   "metadata": {},
   "outputs": [],
   "source": []
  },
  {
   "cell_type": "code",
   "execution_count": null,
   "metadata": {},
   "outputs": [],
   "source": []
  },
  {
   "cell_type": "code",
   "execution_count": null,
   "metadata": {},
   "outputs": [],
   "source": []
  },
  {
   "cell_type": "code",
   "execution_count": null,
   "metadata": {},
   "outputs": [],
   "source": []
  },
  {
   "cell_type": "code",
   "execution_count": null,
   "metadata": {},
   "outputs": [],
   "source": []
  },
  {
   "cell_type": "code",
   "execution_count": null,
   "metadata": {},
   "outputs": [],
   "source": []
  },
  {
   "cell_type": "code",
   "execution_count": 37,
   "metadata": {},
   "outputs": [],
   "source": []
  },
  {
   "cell_type": "code",
   "execution_count": null,
   "metadata": {},
   "outputs": [],
   "source": []
  },
  {
   "cell_type": "code",
   "execution_count": null,
   "metadata": {},
   "outputs": [],
   "source": []
  },
  {
   "cell_type": "code",
   "execution_count": null,
   "metadata": {},
   "outputs": [],
   "source": []
  },
  {
   "cell_type": "code",
   "execution_count": null,
   "metadata": {},
   "outputs": [],
   "source": []
  },
  {
   "cell_type": "code",
   "execution_count": 28,
   "metadata": {},
   "outputs": [],
   "source": []
  },
  {
   "cell_type": "code",
   "execution_count": null,
   "metadata": {},
   "outputs": [],
   "source": []
  },
  {
   "cell_type": "code",
   "execution_count": null,
   "metadata": {},
   "outputs": [],
   "source": []
  },
  {
   "cell_type": "code",
   "execution_count": null,
   "metadata": {},
   "outputs": [],
   "source": []
  },
  {
   "cell_type": "code",
   "execution_count": 35,
   "metadata": {},
   "outputs": [],
   "source": []
  },
  {
   "cell_type": "code",
   "execution_count": null,
   "metadata": {},
   "outputs": [],
   "source": []
  },
  {
   "cell_type": "code",
   "execution_count": null,
   "metadata": {},
   "outputs": [],
   "source": []
  },
  {
   "cell_type": "code",
   "execution_count": null,
   "metadata": {},
   "outputs": [],
   "source": []
  },
  {
   "cell_type": "code",
   "execution_count": null,
   "metadata": {},
   "outputs": [],
   "source": []
  },
  {
   "cell_type": "code",
   "execution_count": null,
   "metadata": {},
   "outputs": [],
   "source": []
  },
  {
   "cell_type": "code",
   "execution_count": null,
   "metadata": {},
   "outputs": [],
   "source": []
  },
  {
   "cell_type": "code",
   "execution_count": 36,
   "metadata": {},
   "outputs": [
    {
     "name": "stdout",
     "output_type": "stream",
     "text": [
      "None\n"
     ]
    }
   ],
   "source": []
  },
  {
   "cell_type": "code",
   "execution_count": null,
   "metadata": {},
   "outputs": [],
   "source": []
  },
  {
   "cell_type": "code",
   "execution_count": null,
   "metadata": {},
   "outputs": [],
   "source": []
  },
  {
   "cell_type": "code",
   "execution_count": null,
   "metadata": {},
   "outputs": [],
   "source": []
  },
  {
   "cell_type": "code",
   "execution_count": null,
   "metadata": {},
   "outputs": [],
   "source": []
  },
  {
   "cell_type": "code",
   "execution_count": null,
   "metadata": {},
   "outputs": [],
   "source": []
  },
  {
   "cell_type": "code",
   "execution_count": null,
   "metadata": {},
   "outputs": [],
   "source": []
  },
  {
   "cell_type": "code",
   "execution_count": null,
   "metadata": {},
   "outputs": [],
   "source": []
  },
  {
   "cell_type": "code",
   "execution_count": null,
   "metadata": {},
   "outputs": [],
   "source": []
  },
  {
   "cell_type": "code",
   "execution_count": null,
   "metadata": {},
   "outputs": [],
   "source": []
  },
  {
   "cell_type": "code",
   "execution_count": null,
   "metadata": {},
   "outputs": [],
   "source": []
  },
  {
   "cell_type": "code",
   "execution_count": null,
   "metadata": {},
   "outputs": [],
   "source": []
  },
  {
   "cell_type": "code",
   "execution_count": null,
   "metadata": {},
   "outputs": [],
   "source": []
  },
  {
   "cell_type": "code",
   "execution_count": null,
   "metadata": {},
   "outputs": [],
   "source": []
  },
  {
   "cell_type": "code",
   "execution_count": null,
   "metadata": {},
   "outputs": [],
   "source": []
  },
  {
   "cell_type": "code",
   "execution_count": null,
   "metadata": {},
   "outputs": [],
   "source": []
  }
 ],
 "metadata": {
  "kernelspec": {
   "display_name": "Python 3",
   "language": "python",
   "name": "python3"
  },
  "language_info": {
   "codemirror_mode": {
    "name": "ipython",
    "version": 3
   },
   "file_extension": ".py",
   "mimetype": "text/x-python",
   "name": "python",
   "nbconvert_exporter": "python",
   "pygments_lexer": "ipython3",
   "version": "3.7.7"
  }
 },
 "nbformat": 4,
 "nbformat_minor": 4
}
