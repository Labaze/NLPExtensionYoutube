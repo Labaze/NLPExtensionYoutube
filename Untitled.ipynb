{
 "cells": [
  {
   "cell_type": "code",
   "execution_count": 1,
   "metadata": {},
   "outputs": [
    {
     "name": "stdout",
     "output_type": "stream",
     "text": [
      "[('day', 0.021808093682333555), ('year', 0.021097552546414922), ('time', 0.019380132230197973), ('marginal improvement', 0.01913570904915822), ('world', 0.01476697543225851), ('decisions', 0.014471357595597987), ('way', 0.013986486539856886), ('end results', 0.013907401366319353), ('ambitious dreamshas', 0.012891665041959224), ('book', 0.011474330025751442), ('minutes', 0.011227902827287797), ('pimsleur german language program', 0.009990993918762379), ('points', 0.009899411646778569), ('types', 0.009804217130237842), ('big concepts', 0.009798996903762878), ('top graduate programs', 0.00961595151892061), ('trails', 0.009096774218077216), ('half', 0.008756998872959675), ('skill necessaryto', 0.008582046934372924), ('chapters', 0.007707364780003746), ('decision success rate', 0.0071652854028140135), ('outcome', 0.006947060867392942), ('guy', 0.006888262429001616), ('front country', 0.0068614445500748585), ('hour', 0.006841147525424119), ('kids', 0.006663962830853504), ('tiny little', 0.006561840272770946), ('step', 0.006418263978530397), ('word', 0.0063112318392249634), ('month', 0.006278570842368798)]\n"
     ]
    }
   ],
   "source": [
    "import testpke"
   ]
  },
  {
   "cell_type": "code",
   "execution_count": null,
   "metadata": {},
   "outputs": [],
   "source": []
  },
  {
   "cell_type": "code",
   "execution_count": null,
   "metadata": {},
   "outputs": [],
   "source": []
  },
  {
   "cell_type": "code",
   "execution_count": null,
   "metadata": {},
   "outputs": [],
   "source": []
  }
 ],
 "metadata": {
  "kernelspec": {
   "display_name": "Python 3",
   "language": "python",
   "name": "python3"
  },
  "language_info": {
   "codemirror_mode": {
    "name": "ipython",
    "version": 3
   },
   "file_extension": ".py",
   "mimetype": "text/x-python",
   "name": "python",
   "nbconvert_exporter": "python",
   "pygments_lexer": "ipython3",
   "version": "3.7.6"
  }
 },
 "nbformat": 4,
 "nbformat_minor": 4
}
